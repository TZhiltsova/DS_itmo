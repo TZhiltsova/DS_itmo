{
  "nbformat": 4,
  "nbformat_minor": 0,
  "metadata": {
    "colab": {
      "provenance": []
    },
    "kernelspec": {
      "name": "python3",
      "display_name": "Python 3"
    },
    "language_info": {
      "name": "python"
    }
  },
  "cells": [
    {
      "cell_type": "code",
      "execution_count": 115,
      "metadata": {
        "colab": {
          "base_uri": "https://localhost:8080/",
          "height": 178
        },
        "id": "mrCjQbch_RMV",
        "outputId": "fbffe39f-97c6-4b10-befd-f7c39e3878e9"
      },
      "outputs": [
        {
          "output_type": "execute_result",
          "data": {
            "text/plain": [
              "Survived\n",
              "0    424\n",
              "1    290\n",
              "Name: count, dtype: int64"
            ],
            "text/html": [
              "<div>\n",
              "<style scoped>\n",
              "    .dataframe tbody tr th:only-of-type {\n",
              "        vertical-align: middle;\n",
              "    }\n",
              "\n",
              "    .dataframe tbody tr th {\n",
              "        vertical-align: top;\n",
              "    }\n",
              "\n",
              "    .dataframe thead th {\n",
              "        text-align: right;\n",
              "    }\n",
              "</style>\n",
              "<table border=\"1\" class=\"dataframe\">\n",
              "  <thead>\n",
              "    <tr style=\"text-align: right;\">\n",
              "      <th></th>\n",
              "      <th>count</th>\n",
              "    </tr>\n",
              "    <tr>\n",
              "      <th>Survived</th>\n",
              "      <th></th>\n",
              "    </tr>\n",
              "  </thead>\n",
              "  <tbody>\n",
              "    <tr>\n",
              "      <th>0</th>\n",
              "      <td>424</td>\n",
              "    </tr>\n",
              "    <tr>\n",
              "      <th>1</th>\n",
              "      <td>290</td>\n",
              "    </tr>\n",
              "  </tbody>\n",
              "</table>\n",
              "</div><br><label><b>dtype:</b> int64</label>"
            ]
          },
          "metadata": {},
          "execution_count": 115
        }
      ],
      "source": [
        "import pandas as pd\n",
        "from sklearn.model_selection import train_test_split\n",
        "from sklearn.dummy import DummyClassifier\n",
        "from sklearn.linear_model import LogisticRegression\n",
        "from sklearn.preprocessing import LabelEncoder\n",
        "\n",
        "\n",
        "passengers = pd.read_csv('train.csv')\n",
        "passengers = passengers.dropna(subset = ['Age'])\n",
        "passengers['Survived'].value_counts() #для понимания соотношения числа выживших и нет пассажиров"
      ]
    },
    {
      "cell_type": "markdown",
      "source": [
        "В этом случае перед нами стоит задача классификации, значит и метрики нужно выбирать среди метрик классификации.\n",
        "\n",
        "Однако я столкнулась с тем, что не могу понять, почему такие плохие показатели демонстрирует модель.\n",
        "\n",
        "Хотела бы получить обратную связь, чтобы исправить задание, так как сама запуталась.\n",
        "\n",
        "Для обучения модели выбрала параметры, на мой взгляд наиболее важные для выживания пассажиров - Класс, Возраст и Пол."
      ],
      "metadata": {
        "id": "p7A8I_NLcllF"
      }
    },
    {
      "cell_type": "code",
      "source": [
        "le = LabelEncoder()\n",
        "res = le.fit_transform(passengers['Sex'])\n",
        "le_df = pd.DataFrame(res, columns=['Sex2'])\n",
        "passengers_repl = pd.concat([passengers, le_df], axis=1).drop(columns='Sex').dropna()"
      ],
      "metadata": {
        "id": "pNGMiHdZTjas"
      },
      "execution_count": 127,
      "outputs": []
    },
    {
      "cell_type": "code",
      "source": [
        "y = passengers_repl[['Survived']]\n",
        "X = passengers_repl[['Pclass', 'Age', 'Sex2']]\n",
        "X_train, X_test, y_train, y_test = train_test_split(X, y, random_state=2024, test_size=0.25)"
      ],
      "metadata": {
        "id": "BKiQcnVIKovE"
      },
      "execution_count": 122,
      "outputs": []
    },
    {
      "cell_type": "code",
      "source": [
        "dummy_clf = DummyClassifier(strategy=\"most_frequent\")\n",
        "dummy_clf.fit(X_train, y_train);"
      ],
      "metadata": {
        "id": "OmNSf_c2HFkY"
      },
      "execution_count": 123,
      "outputs": []
    },
    {
      "cell_type": "code",
      "source": [
        "log_reg = LogisticRegression()\n",
        "log_reg.fit(X_train, y_train);"
      ],
      "metadata": {
        "colab": {
          "base_uri": "https://localhost:8080/"
        },
        "id": "T6SZ82WlLzOM",
        "outputId": "1fabd33f-6180-4f9d-ece5-6c9ab641e596"
      },
      "execution_count": 124,
      "outputs": [
        {
          "output_type": "stream",
          "name": "stderr",
          "text": [
            "/usr/local/lib/python3.10/dist-packages/sklearn/utils/validation.py:1339: DataConversionWarning: A column-vector y was passed when a 1d array was expected. Please change the shape of y to (n_samples, ), for example using ravel().\n",
            "  y = column_or_1d(y, warn=True)\n"
          ]
        }
      ]
    },
    {
      "cell_type": "code",
      "source": [
        "from sklearn.metrics import accuracy_score\n",
        "y_pred_dummy = dummy_clf.predict(X_test)\n",
        "accuracy_score(y_test, y_pred_dummy)"
      ],
      "metadata": {
        "colab": {
          "base_uri": "https://localhost:8080/"
        },
        "id": "IMwLVm-cL478",
        "outputId": "89da700f-f761-4759-d6c6-c1c0e58ba0d1"
      },
      "execution_count": 125,
      "outputs": [
        {
          "output_type": "execute_result",
          "data": {
            "text/plain": [
              "0.7297297297297297"
            ]
          },
          "metadata": {},
          "execution_count": 125
        }
      ]
    },
    {
      "cell_type": "code",
      "source": [
        "y_pred_log_reg = log_reg.predict(X_test)\n",
        "accuracy_score(y_test, y_pred_log_reg)"
      ],
      "metadata": {
        "colab": {
          "base_uri": "https://localhost:8080/"
        },
        "id": "oQ37X5HOL6Vc",
        "outputId": "4b26e45c-3663-4d5f-9ff2-3d6f832017b8"
      },
      "execution_count": 126,
      "outputs": [
        {
          "output_type": "execute_result",
          "data": {
            "text/plain": [
              "0.6756756756756757"
            ]
          },
          "metadata": {},
          "execution_count": 126
        }
      ]
    },
    {
      "cell_type": "code",
      "source": [
        "from sklearn.metrics import confusion_matrix, precision_score, recall_score\n",
        "confusion_matrix(y_test, y_pred_dummy)"
      ],
      "metadata": {
        "id": "TLkp-IzqZGA_",
        "outputId": "6ec0ad12-4c9d-49f0-aca8-589eddb639af",
        "colab": {
          "base_uri": "https://localhost:8080/"
        }
      },
      "execution_count": 105,
      "outputs": [
        {
          "output_type": "execute_result",
          "data": {
            "text/plain": [
              "array([[ 0, 10],\n",
              "       [ 0, 27]])"
            ]
          },
          "metadata": {},
          "execution_count": 105
        }
      ]
    },
    {
      "cell_type": "code",
      "source": [
        "confusion_matrix(y_test, y_pred_log_reg)"
      ],
      "metadata": {
        "id": "KpX7zX81ZIFW",
        "outputId": "69819cb2-3eb2-4a7a-9cb1-af8a0b4e2a5e",
        "colab": {
          "base_uri": "https://localhost:8080/"
        }
      },
      "execution_count": 106,
      "outputs": [
        {
          "output_type": "execute_result",
          "data": {
            "text/plain": [
              "array([[ 2,  8],\n",
              "       [ 4, 23]])"
            ]
          },
          "metadata": {},
          "execution_count": 106
        }
      ]
    },
    {
      "cell_type": "code",
      "source": [
        "print(f'Precision for Dummy Classificator: {precision_score(y_test, y_pred_dummy, zero_division=0)}')\n",
        "print(f'Precision for Logistic regression: {precision_score(y_test, y_pred_log_reg, zero_division=0)}')"
      ],
      "metadata": {
        "colab": {
          "base_uri": "https://localhost:8080/"
        },
        "id": "GAP_M7lcZqh-",
        "outputId": "f9d0e322-a54f-4c84-88d7-b7331b15a1e4"
      },
      "execution_count": 107,
      "outputs": [
        {
          "output_type": "stream",
          "name": "stdout",
          "text": [
            "Precision for Dummy Classificator: 0.7297297297297297\n",
            "Precision for Logistic regression: 0.7419354838709677\n"
          ]
        }
      ]
    },
    {
      "cell_type": "code",
      "source": [
        "print(f'Recall for Dummy Classificator: {recall_score(y_test, y_pred_dummy)}')\n",
        "print(f'Recall for Logistic regression: {recall_score(y_test, y_pred_log_reg)}')"
      ],
      "metadata": {
        "colab": {
          "base_uri": "https://localhost:8080/"
        },
        "id": "tHrHoNxwZzOO",
        "outputId": "415154ab-951e-42e5-9246-d860fc8b71d3"
      },
      "execution_count": 108,
      "outputs": [
        {
          "output_type": "stream",
          "name": "stdout",
          "text": [
            "Recall for Dummy Classificator: 1.0\n",
            "Recall for Logistic regression: 0.8518518518518519\n"
          ]
        }
      ]
    },
    {
      "cell_type": "code",
      "source": [
        "from sklearn.metrics import f1_score, fbeta_score\n",
        "print(f'F1-score for Dummy Classificator: {f1_score(y_test, y_pred_dummy)}')\n",
        "print(f'F1-score for Logistic regression: {f1_score(y_test, y_pred_log_reg)}')"
      ],
      "metadata": {
        "colab": {
          "base_uri": "https://localhost:8080/"
        },
        "id": "nKPAqt95bsm2",
        "outputId": "57bd8980-42b5-4ee9-bfcd-d931f2e8ea2a"
      },
      "execution_count": 109,
      "outputs": [
        {
          "output_type": "stream",
          "name": "stdout",
          "text": [
            "F1-score for Dummy Classificator: 0.84375\n",
            "F1-score for Logistic regression: 0.7931034482758621\n"
          ]
        }
      ]
    },
    {
      "cell_type": "code",
      "source": [
        "print(f'Fbeta-score for Dummy Classificator (recall bias): {fbeta_score(y_test, y_pred_dummy, beta=2)}')\n",
        "print(f'Fbeta-score for Logistic regression (recall bias): {fbeta_score(y_test, y_pred_log_reg, beta=2)}')"
      ],
      "metadata": {
        "colab": {
          "base_uri": "https://localhost:8080/"
        },
        "id": "pLDRrjFYbv81",
        "outputId": "d8de2da0-9db8-4ec2-8517-4af0ffdf28ca"
      },
      "execution_count": 110,
      "outputs": [
        {
          "output_type": "stream",
          "name": "stdout",
          "text": [
            "Fbeta-score for Dummy Classificator (recall bias): 0.9310344827586207\n",
            "Fbeta-score for Logistic regression (recall bias): 0.8273381294964028\n"
          ]
        }
      ]
    },
    {
      "cell_type": "code",
      "source": [
        "print(f'Fbeta-score for Dummy Classificator (precision bias): {fbeta_score(y_test, y_pred_dummy, beta=0.5)}')\n",
        "print(f'Fbeta-score for Logistic regression (precision bias): {fbeta_score(y_test, y_pred_log_reg, beta=0.5)}')"
      ],
      "metadata": {
        "colab": {
          "base_uri": "https://localhost:8080/"
        },
        "id": "Chk2Sjvdb1il",
        "outputId": "b6a49225-82e0-4587-d9ce-6f0b105fac81"
      },
      "execution_count": 111,
      "outputs": [
        {
          "output_type": "stream",
          "name": "stdout",
          "text": [
            "Fbeta-score for Dummy Classificator (precision bias): 0.7714285714285715\n",
            "Fbeta-score for Logistic regression (precision bias): 0.7615894039735099\n"
          ]
        }
      ]
    }
  ]
}